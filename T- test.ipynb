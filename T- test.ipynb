{
 "cells": [
  {
   "cell_type": "code",
   "execution_count": 1,
   "id": "48f4b7ef-355f-4ee6-8cc0-a4cd2707553c",
   "metadata": {},
   "outputs": [],
   "source": [
    "import numpy as np\n",
    "from scipy import stats"
   ]
  },
  {
   "cell_type": "code",
   "execution_count": 2,
   "id": "49e8f3cb-ca18-4c65-935c-7ec041b36f44",
   "metadata": {},
   "outputs": [],
   "source": [
    "sample = [172,174,168,169,171,173,175,170,169,172]\n",
    "sample_mean = np.mean(sample)\n",
    "sample_std = np.std(sample,ddof = 1)\n",
    "n = len(sample)\n",
    "mean_population = 170"
   ]
  },
  {
   "cell_type": "markdown",
   "id": "20fef6ce-6027-4f68-b46e-50be513409c7",
   "metadata": {},
   "source": [
    "# phele hum t stats find krege"
   ]
  },
  {
   "cell_type": "code",
   "execution_count": 3,
   "id": "0c472b2a-8b26-4610-8fed-e6ab12ebed77",
   "metadata": {},
   "outputs": [
    {
     "data": {
      "text/plain": [
       "np.float64(1.7782469350914734)"
      ]
     },
     "execution_count": 3,
     "metadata": {},
     "output_type": "execute_result"
    }
   ],
   "source": [
    "t_stats = (sample_mean - mean_population) / (sample_std / np.sqrt(n))\n",
    "t_stats"
   ]
  },
  {
   "cell_type": "code",
   "execution_count": 4,
   "id": "1ea86724-eaaf-4d5a-9707-e678a0c3a5fa",
   "metadata": {},
   "outputs": [],
   "source": [
    "p_value = (1 - stats.t.cdf(abs(t_stats), df = n-1))\n",
    "alpha = 0.05"
   ]
  },
  {
   "cell_type": "code",
   "execution_count": 5,
   "id": "daa920e9-8911-4efe-979d-782946502e28",
   "metadata": {},
   "outputs": [
    {
     "name": "stdout",
     "output_type": "stream",
     "text": [
      "accept the null hypothesis\n"
     ]
    }
   ],
   "source": [
    "if p_value < alpha:\n",
    "    print(\"reject the null hypothesis\")\n",
    "else:\n",
    "    print(\"accept the null hypothesis\")"
   ]
  },
  {
   "cell_type": "code",
   "execution_count": null,
   "id": "82ced609-a1be-4401-a9da-b134a59c0a1b",
   "metadata": {},
   "outputs": [],
   "source": []
  },
  {
   "cell_type": "code",
   "execution_count": null,
   "id": "bfa9c208-e1f2-4c14-b8c1-724609e8e5a0",
   "metadata": {},
   "outputs": [],
   "source": []
  },
  {
   "cell_type": "code",
   "execution_count": null,
   "id": "6a920e46-8aba-4a99-87ec-444aec729801",
   "metadata": {},
   "outputs": [],
   "source": []
  },
  {
   "cell_type": "code",
   "execution_count": null,
   "id": "5f6b7074-cfdc-48d1-babf-e8e31c26b639",
   "metadata": {},
   "outputs": [],
   "source": []
  },
  {
   "cell_type": "code",
   "execution_count": null,
   "id": "943052da-31a3-48ea-ba4f-2c4062c56627",
   "metadata": {},
   "outputs": [],
   "source": []
  },
  {
   "cell_type": "code",
   "execution_count": null,
   "id": "fba2a500-93f9-446d-989e-2c3d90eb4e53",
   "metadata": {},
   "outputs": [],
   "source": []
  },
  {
   "cell_type": "code",
   "execution_count": null,
   "id": "5c4aec76-7ba5-4448-928f-7b5538717981",
   "metadata": {},
   "outputs": [],
   "source": []
  },
  {
   "cell_type": "code",
   "execution_count": null,
   "id": "3be14cbd-2f30-41d0-8efc-f1b1c12f0843",
   "metadata": {},
   "outputs": [],
   "source": []
  }
 ],
 "metadata": {
  "kernelspec": {
   "display_name": "Python [conda env:base]",
   "language": "python",
   "name": "base"
  },
  "language_info": {
   "codemirror_mode": {
    "name": "ipython",
    "version": 3
   },
   "file_extension": ".py",
   "mimetype": "text/x-python",
   "name": "python",
   "nbconvert_exporter": "python",
   "pygments_lexer": "ipython3",
   "version": "3.13.5"
  }
 },
 "nbformat": 4,
 "nbformat_minor": 5
}
